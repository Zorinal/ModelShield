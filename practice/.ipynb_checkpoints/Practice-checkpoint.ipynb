{
 "cells": [
  {
   "cell_type": "markdown",
   "id": "55facc7e-abdd-4719-8b51-8ecd9007f69d",
   "metadata": {},
   "source": [
    "# План рассказа\n",
    "# Ordered List\n",
    "1.  Эпиграф\n",
    "    1.  Расскажем кратко, что проделано в работе.\n",
    "3.  Введение\n",
    "    1. Обсудим саму тему, её актуальность и почему стоит беспокоиться про безопасность модели. Также введем классификацию типов атак\n",
    "4. Trojan Attack на CNN \n",
    "    1. Обсудим ситуации, архитектуры и умыслы такой атаки как Trojan(Троян)\n",
    "5. Fine-Pruning\n",
    "    1. Рассмотрим, насколько эффективен элемент обрезки и посмотрим его на практике.\n",
    "6. BadNet\n",
    "    1. Обсудим атаку BadNet\n",
    "7. Neural Cleanse\n",
    "    1. Посмотрим насколько эффективен метод защиты против BadNet идея Neural Cleanse\n",
    "8. Poison Attack vs SVM\n",
    "    1. Рассмотрим на атаку против SVM, не архитектуры DNN, и обсудим математическую его основу\n",
    "9. Обсудим другие методы защиты и типы аттак в кратце и посмотрим на результаты исследований\n",
    "10. Выводы"
   ]
  },
  {
   "cell_type": "markdown",
   "id": "17b8c495-6f1d-40e8-a2b6-ab8a9735723a",
   "metadata": {},
   "source": [
    "## Эпиграф\n",
    "В нем мы исследовали разные типы атак, защит против этих атак и их математическую основу. Хотя эта тема только разивавается, то существует множество статей, описывающих еще большее количество типов атак и защит на разные архитектуры нейросетей, или против моделей классического машинного обучения. Мы постарались сделать некоторое введение в эту тему, изучая ее сами. Тут разобраны одни из самых первых и нетрудных методов атаки и защиты, однако даже несложные методы отравления способны испортить модель, если их по разному использовать, это будет рассмотренно в конце доклада.  Перейдем же к нему."
   ]
  },
  {
   "cell_type": "markdown",
   "id": "ac0b3da4-bba8-4f75-bf87-08d47b5f0582",
   "metadata": {},
   "source": [
    "## Введение\n"
   ]
  },
  {
   "cell_type": "markdown",
   "id": "b7cf13ba-a284-4148-ae92-dc29441b9bbb",
   "metadata": {},
   "source": [
    "## Trojan Attack"
   ]
  },
  {
   "cell_type": "markdown",
   "id": "ef4da675-cf2a-4104-9dbb-d333c1a340f3",
   "metadata": {},
   "source": [
    "## Fine Prouning"
   ]
  },
  {
   "cell_type": "markdown",
   "id": "141c56bf-198c-4080-a9cb-044927119eeb",
   "metadata": {},
   "source": [
    "## BadNet"
   ]
  },
  {
   "cell_type": "markdown",
   "id": "dd2906ad-9ea2-423e-b862-0165ce58306c",
   "metadata": {},
   "source": [
    "## Neural Cleanse"
   ]
  },
  {
   "cell_type": "markdown",
   "id": "5b27cb91-265c-434a-aa2c-c9dc218b6388",
   "metadata": {},
   "source": [
    "## Poison Attack vs SVM"
   ]
  },
  {
   "cell_type": "markdown",
   "id": "4f4f2aac-9438-4193-88f8-7319b1c5a8c0",
   "metadata": {},
   "source": [
    "## Другие типы"
   ]
  },
  {
   "cell_type": "markdown",
   "id": "532cc6f4-374d-4453-80a0-fc2922fe58a2",
   "metadata": {},
   "source": [
    "## Выводы"
   ]
  },
  {
   "cell_type": "code",
   "execution_count": null,
   "id": "09537387-15e6-45ae-8c4d-13f713dbe175",
   "metadata": {},
   "outputs": [],
   "source": []
  }
 ],
 "metadata": {
  "kernelspec": {
   "display_name": "Python 3 (ipykernel)",
   "language": "python",
   "name": "python3"
  },
  "language_info": {
   "codemirror_mode": {
    "name": "ipython",
    "version": 3
   },
   "file_extension": ".py",
   "mimetype": "text/x-python",
   "name": "python",
   "nbconvert_exporter": "python",
   "pygments_lexer": "ipython3",
   "version": "3.11.8"
  }
 },
 "nbformat": 4,
 "nbformat_minor": 5
}
